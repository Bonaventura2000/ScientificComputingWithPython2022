{
 "cells": [
  {
   "cell_type": "markdown",
   "metadata": {},
   "source": [
    "1\\. **Pandas DataFrame**\n",
    "\n",
    "This exercise consists in analyzing a dataset containg timing information from a series of Time-to-Digital-Converters (TDC) implemented in a pair of FPGAs. Each measurement (i.e. each row of the input file) consists of a flag that specifies the type of message ('HEAD', which in this case is always 1), two addresses of the TDC providing the signal ('FPGA' and 'TDC_CHANNEL'), and the timing information ('ORBIT_CNT', 'BX_COUNTER', and 'TDC_MEAS'). Each TDC count corresponds to 25/30 ns, whereas a unit of BX_COUNTER corresponds to 25 ns, and the ORBIT_CNT is increased every `x` BX_COUNTER. This allows to store the time in a similar way to hours, minutes and seconds."
   ]
  },
  {
   "cell_type": "code",
   "execution_count": 1,
   "metadata": {},
   "outputs": [],
   "source": [
    "# Import for the whole program\n",
    "import pandas as pd\n",
    "import datetime as dt\n",
    "import numpy as np\n",
    "import matplotlib.pyplot as plt"
   ]
  },
  {
   "cell_type": "markdown",
   "metadata": {},
   "source": [
    "1\\. Create a Pandas DataFrame reading N rows of the `data/data_000637.txt` dataset. Choose N to be smaller than or equal to the maximum number of rows and larger that 10k (check the documentation)."
   ]
  },
  {
   "cell_type": "code",
   "execution_count": 2,
   "metadata": {},
   "outputs": [
    {
     "name": "stdout",
     "output_type": "stream",
     "text": [
      "      HEAD  FPGA  TDC_CHANNEL   ORBIT_CNT  BX_COUNTER  TDC_MEAS\n",
      "0        1     0          123  3869200167        2374        26\n",
      "1        1     0          124  3869200167        2374        27\n",
      "2        1     0           63  3869200167        2553        28\n",
      "3        1     0           64  3869200167        2558        19\n",
      "4        1     0           64  3869200167        2760        25\n",
      "...    ...   ...          ...         ...         ...       ...\n",
      "9995     1     0           61  3869200267         696        11\n",
      "9996     1     0           60  3869200267         701         5\n",
      "9997     1     0           59  3869200267         707        23\n",
      "9998     1     0           63  3869200267         706        15\n",
      "9999     1     0           49  3869200267         777        13\n",
      "\n",
      "[10000 rows x 6 columns]\n"
     ]
    }
   ],
   "source": [
    "file_name = \"./Es5Files/data_000637.txt\"\n",
    "d = pd.read_csv(file_name)\n",
    "N = 10000\n",
    "df = pd.DataFrame(data=d, index=range(N))\n",
    "print (df)\n"
   ]
  },
  {
   "cell_type": "markdown",
   "metadata": {},
   "source": [
    "2\\. Estimate the number of BX in a ORBIT (the value `x`).\n",
    "\n",
    "*Hint*: check when the BX counter reaches the maximum value before being reset to 0."
   ]
  },
  {
   "cell_type": "code",
   "execution_count": 3,
   "metadata": {},
   "outputs": [
    {
     "name": "stdout",
     "output_type": "stream",
     "text": [
      "3046.6936936936936\n"
     ]
    }
   ],
   "source": [
    "#Find where the values changes\n",
    "orbit_change = df[\"ORBIT_CNT\"] != df[\"ORBIT_CNT\"].shift(periods=-1)\n",
    "#Compute the mean\n",
    "df_mean = df[orbit_change].BX_COUNTER.mean()\n",
    "print(df_mean)\n",
    "\n",
    "#Observe that this mean could be verifed using:\n",
    "#df_mean=df[\"BX_COUNTER\"].mean()*2\n",
    "#print(df_mean)"
   ]
  },
  {
   "cell_type": "markdown",
   "metadata": {},
   "source": [
    "3\\. Create a new column with the absolute time in ns (as a combination of the other three columns with timing information) since the beginning of the data acquisition, and convert the new column to a Time Series."
   ]
  },
  {
   "cell_type": "code",
   "execution_count": 4,
   "metadata": {},
   "outputs": [
    {
     "name": "stdout",
     "output_type": "stream",
     "text": [
      "      HEAD  FPGA  TDC_CHANNEL   ORBIT_CNT  BX_COUNTER  TDC_MEAS  \\\n",
      "0        1     0          123  3869200167        2374        26   \n",
      "1        1     0          124  3869200167        2374        27   \n",
      "2        1     0           63  3869200167        2553        28   \n",
      "3        1     0           64  3869200167        2558        19   \n",
      "4        1     0           64  3869200167        2760        25   \n",
      "...    ...   ...          ...         ...         ...       ...   \n",
      "9995     1     0           61  3869200267         696        11   \n",
      "9996     1     0           60  3869200267         701         5   \n",
      "9997     1     0           59  3869200267         707        23   \n",
      "9998     1     0           63  3869200267         706        15   \n",
      "9999     1     0           49  3869200267         777        13   \n",
      "\n",
      "                              Time  \n",
      "0    1970-01-01 00:00:00.000000000  \n",
      "1    1970-01-01 00:00:00.000000001  \n",
      "2    1970-01-01 00:00:00.000004477  \n",
      "3    1970-01-01 00:00:00.000004593  \n",
      "4    1970-01-01 00:00:00.000009649  \n",
      "...                            ...  \n",
      "9995 1970-01-01 00:00:00.007574769  \n",
      "9996 1970-01-01 00:00:00.007574888  \n",
      "9997 1970-01-01 00:00:00.007575056  \n",
      "9998 1970-01-01 00:00:00.007575023  \n",
      "9999 1970-01-01 00:00:00.007576796  \n",
      "\n",
      "[10000 rows x 7 columns]\n"
     ]
    }
   ],
   "source": [
    "# create a new pd substracting in the ORBIT_CNT collumn the first value of the collumn\n",
    "orbit_change = df[\"ORBIT_CNT\"] - df[\"ORBIT_CNT\"].loc[0]\n",
    "#Compute the absolute number of ns\n",
    "df[\"Time\"] = orbit_change*df_mean*25 + df[\"BX_COUNTER\"]*25 + df[\"TDC_MEAS\"]\n",
    "# Assigment interpretation: Assume the data aquisition was started when we find first row,so aquisition started in 3869200167, 2374, 26\n",
    "df[\"Time\"] = df[\"Time\"] - df[\"BX_COUNTER\"].loc[0]*25 - df[\"TDC_MEAS\"].loc[0]\n",
    "#Convert to timeseries\n",
    "df['Time'] = pd.to_datetime(df['Time'], unit='ns')\n",
    "#Don't start from 1970, but find the absolute duration\n",
    "#df['Time'] = df['Time'] - df['Time'].loc[0]\n",
    "print(df)\n"
   ]
  },
  {
   "cell_type": "markdown",
   "metadata": {},
   "source": [
    "4\\. Find out the duration of the data taking in hours, minutes and seconds, by using the features of the Time Series. Perform this check reading the whole dataset."
   ]
  },
  {
   "cell_type": "code",
   "execution_count": 5,
   "metadata": {},
   "outputs": [
    {
     "name": "stdout",
     "output_type": "stream",
     "text": [
      "      HEAD  FPGA  TDC_CHANNEL   ORBIT_CNT  BX_COUNTER  TDC_MEAS  \\\n",
      "0        1     0          123  3869200167        2374        26   \n",
      "1        1     0          124  3869200167        2374        27   \n",
      "2        1     0           63  3869200167        2553        28   \n",
      "3        1     0           64  3869200167        2558        19   \n",
      "4        1     0           64  3869200167        2760        25   \n",
      "...    ...   ...          ...         ...         ...       ...   \n",
      "9995     1     0           61  3869200267         696        11   \n",
      "9996     1     0           60  3869200267         701         5   \n",
      "9997     1     0           59  3869200267         707        23   \n",
      "9998     1     0           63  3869200267         706        15   \n",
      "9999     1     0           49  3869200267         777        13   \n",
      "\n",
      "                 Time  \n",
      "0            00:00:00  \n",
      "1            00:00:00  \n",
      "2     00:00:00.000004  \n",
      "3     00:00:00.000004  \n",
      "4     00:00:00.000009  \n",
      "...               ...  \n",
      "9995  00:00:00.007574  \n",
      "9996  00:00:00.007574  \n",
      "9997  00:00:00.007575  \n",
      "9998  00:00:00.007575  \n",
      "9999  00:00:00.007576  \n",
      "\n",
      "[10000 rows x 7 columns]\n"
     ]
    }
   ],
   "source": [
    "df['Time'] = pd.to_datetime(df['Time']).dt.time\n",
    "print(df)\n",
    "# Now time is reported for the time collumn in hours, minutes and seconds, where seconds is a float reporting the milliseconds."
   ]
  },
  {
   "cell_type": "markdown",
   "metadata": {},
   "source": [
    "5\\. Use the `.groupby()` method to find out the noisy channels, i.e. the TDC channels with most counts (print to screen the top 3 and the corresponding counts)"
   ]
  },
  {
   "cell_type": "code",
   "execution_count": 6,
   "metadata": {},
   "outputs": [
    {
     "name": "stdout",
     "output_type": "stream",
     "text": [
      "Int64Index([139, 63, 64], dtype='int64', name='TDC_CHANNEL')\n"
     ]
    }
   ],
   "source": [
    "# Group by TDC_CHANNEL field\n",
    "gk = df.groupby('TDC_CHANNEL')\n",
    "# Sort by the size\n",
    "gkSorted = gk.size().sort_values(ascending=False)\n",
    "\n",
    "# Debug code:\n",
    "#print( gk.size().sort_values(ascending=False))\n",
    "\n",
    "#Print the first three values\n",
    "first = gkSorted.head(3).index\n",
    "print(first)"
   ]
  },
  {
   "cell_type": "markdown",
   "metadata": {},
   "source": [
    "6\\. Count the number of non-empty orbits (i.e. the number of orbits with at least one hit)."
   ]
  },
  {
   "cell_type": "code",
   "execution_count": 7,
   "metadata": {},
   "outputs": [
    {
     "name": "stdout",
     "output_type": "stream",
     "text": [
      "Empty DataFrame\n",
      "Columns: [HEAD, FPGA, TDC_CHANNEL, ORBIT_CNT, BX_COUNTER, TDC_MEAS, Time]\n",
      "Index: []\n",
      "Series([], Name: ORBIT_CNT, dtype: float64)\n",
      "100.0\n"
     ]
    }
   ],
   "source": [
    "print(df.loc[df[\"ORBIT_CNT\"] == float(\"nan\")])\n",
    "orbit_change = df[\"ORBIT_CNT\"] - df[\"ORBIT_CNT\"].shift(periods=-1)\n",
    "print(orbit_change.loc[orbit_change >= 2])\n",
    "# There are no missing ORBIT_CNT, every ORBIT_CNT has the following one and no ORBIT_CNT has Nan values\n",
    "n = abs(orbit_change.sum())\n",
    "print(n)"
   ]
  },
  {
   "cell_type": "markdown",
   "metadata": {},
   "source": [
    "7\\. Count the number of unique orbits with at least one measurement from TDC_CHANNEL=139."
   ]
  },
  {
   "cell_type": "code",
   "execution_count": 8,
   "metadata": {},
   "outputs": [
    {
     "name": "stdout",
     "output_type": "stream",
     "text": [
      "101\n"
     ]
    }
   ],
   "source": [
    "# Count number of different ORBIT_CNT on TDC_CHANNEL=139\n",
    "gk = df.loc[df[\"TDC_CHANNEL\"]==139].groupby(['ORBIT_CNT'])\n",
    "print(len(gk))\n"
   ]
  },
  {
   "cell_type": "markdown",
   "metadata": {},
   "source": [
    "8\\. Create two Series (one for each FPGA) that have the TDC channel as index, and the number of counts for the corresponding TDC channel as values."
   ]
  },
  {
   "cell_type": "code",
   "execution_count": 9,
   "metadata": {},
   "outputs": [
    {
     "name": "stdout",
     "output_type": "stream",
     "text": [
      "TDC_CHANNEL\n",
      "1        4\n",
      "2       10\n",
      "3        8\n",
      "4       11\n",
      "5       11\n",
      "      ... \n",
      "121     45\n",
      "122     55\n",
      "123    138\n",
      "124    130\n",
      "139    599\n",
      "Length: 117, dtype: int64\n",
      "TDC_CHANNEL\n",
      "1      237\n",
      "2      250\n",
      "3      193\n",
      "4      200\n",
      "5      128\n",
      "      ... \n",
      "125      2\n",
      "126      1\n",
      "127     10\n",
      "128     11\n",
      "139    261\n",
      "Length: 115, dtype: int64\n"
     ]
    }
   ],
   "source": [
    "# select FPGA 0 or 1 and regroup by TDC_CHANNEL and print the size of the grop\n",
    "g1 = df.loc[df[\"FPGA\"] == 0].groupby(['TDC_CHANNEL']).size()\n",
    "g2 = df.loc[df[\"FPGA\"] == 1].groupby(['TDC_CHANNEL']).size()\n",
    "print(g1)\n",
    "print(g2)\n"
   ]
  },
  {
   "cell_type": "markdown",
   "metadata": {},
   "source": [
    "9\\. **Optional:** Create two histograms (one for each FPGA) that show the number of counts for each TDC channel."
   ]
  },
  {
   "cell_type": "code",
   "execution_count": 10,
   "metadata": {},
   "outputs": [
    {
     "data": {
      "image/png": "[encoded data removed]",
      "text/plain": [
       "<Figure size 576x576 with 1 Axes>"
      ]
     },
     "metadata": {
      "needs_background": "light"
     },
     "output_type": "display_data"
    },
    {
     "data": {
      "image/png": "[encoded data removed]",
      "text/plain": [
       "<Figure size 576x576 with 1 Axes>"
      ]
     },
     "metadata": {
      "needs_background": "light"
     },
     "output_type": "display_data"
    }
   ],
   "source": [
    "g1 = df.loc[df[\"FPGA\"] == 0]\n",
    "fig1 = plt.figure(num=\"Figure 1\", figsize=(8, 8))\n",
    "plt.hist(g1['TDC_CHANNEL'], bins=25, density=True, cumulative=False)\n",
    "plt.title('FPGA 0')\n",
    "plt.xlabel(\"TDC_CHANNEL\")\n",
    "plt.ylabel(\"Occurances\")\n",
    "plt.show()\n",
    "\n",
    "g2 = df.loc[df[\"FPGA\"] == 1]\n",
    "fig2 = plt.figure(num=\"Figure 2\", figsize=(8, 8))\n",
    "plt.hist(g2['TDC_CHANNEL'], bins=25, density=True, cumulative=False)\n",
    "plt.title('FPGA 1')\n",
    "plt.xlabel(\"TDC_CHANNEL\")\n",
    "plt.ylabel(\"Occurances\")\n",
    "plt.show()"
   ]
  },
  {
   "cell_type": "code",
   "execution_count": null,
   "metadata": {},
   "outputs": [],
   "source": []
  }
 ],
 "metadata": {
  "kernelspec": {
   "display_name": "Python 3 (ipykernel)",
   "language": "python",
   "name": "python3"
  },
  "language_info": {
   "codemirror_mode": {
    "name": "ipython",
    "version": 3
   },
   "file_extension": ".py",
   "mimetype": "text/x-python",
   "name": "python",
   "nbconvert_exporter": "python",
   "pygments_lexer": "ipython3",
   "version": "3.8.12"
  }
 },
 "nbformat": 4,
 "nbformat_minor": 2
}
