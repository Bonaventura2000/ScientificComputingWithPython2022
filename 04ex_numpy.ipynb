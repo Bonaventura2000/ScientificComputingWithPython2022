{
 "cells": [
  {
   "cell_type": "code",
   "execution_count": 1,
   "metadata": {},
   "outputs": [],
   "source": [
    "# Import for the whole program\n",
    "import numpy as np\n",
    "import numpy.random as npr\n",
    "import math\n",
    "import numpy.ma as ma\n",
    "import time\n",
    "import matplotlib.pyplot as plt"
   ]
  },
  {
   "cell_type": "markdown",
   "metadata": {},
   "source": [
    "1\\. **Reductions**\n",
    "\n",
    "Find the total mean, and the mean for each row and column of the following matrix:\n",
    "\n",
    "```python\n",
    "m = np.arange(12).reshape((3,4))\n",
    "```"
   ]
  },
  {
   "cell_type": "code",
   "execution_count": 2,
   "metadata": {},
   "outputs": [
    {
     "name": "stdout",
     "output_type": "stream",
     "text": [
      "[[ 0  1  2  3]\n",
      " [ 4  5  6  7]\n",
      " [ 8  9 10 11]]\n",
      "5.5\n",
      "[4. 5. 6. 7.]\n",
      "[1.5 5.5 9.5]\n"
     ]
    }
   ],
   "source": [
    "m = np.arange(12).reshape((3,4))\n",
    "print(m)\n",
    "# The total mean\n",
    "print(m.mean())\n",
    "# The mean of each collums\n",
    "print(m.mean(0))\n",
    "# The mean of each rows\n",
    "print(m.mean(1))"
   ]
  },
  {
   "cell_type": "markdown",
   "metadata": {},
   "source": [
    "2\\. **Outer product**\n",
    "\n",
    "Find the outer product of the following vectors:\n",
    "\n",
    "```python\n",
    "u = np.array([1, 3, 5, 7])\n",
    "v = np.array([2, 4, 6, 8])\n",
    "```\n",
    "\n",
    "Use different methods to do this:\n",
    "\n",
    "   1. Using the function `outer` in numpy\n",
    "   2. Using a nested `for` loop or a list comprehension\n",
    "   3. Using numpy broadcasting operations"
   ]
  },
  {
   "cell_type": "code",
   "execution_count": 3,
   "metadata": {},
   "outputs": [
    {
     "name": "stdout",
     "output_type": "stream",
     "text": [
      "[[ 2  4  6  8]\n",
      " [ 6 12 18 24]\n",
      " [10 20 30 40]\n",
      " [14 28 42 56]]\n",
      "[[ 2  4  6  8]\n",
      " [ 6 12 18 24]\n",
      " [10 20 30 40]\n",
      " [14 28 42 56]]\n",
      "[[ 2.  4.  6.  8.]\n",
      " [ 6. 12. 18. 24.]\n",
      " [10. 20. 30. 40.]\n",
      " [14. 28. 42. 56.]]\n"
     ]
    }
   ],
   "source": [
    "u = np.array([1, 3, 5, 7])\n",
    "v = np.array([2, 4, 6, 8])\n",
    "\n",
    "#(a)\n",
    "o_1 = np.outer(u, v)\n",
    "print(o_1)\n",
    "\n",
    "#(b)\n",
    "# Create a list with one row\n",
    "o_2 = [(u[i]*v[j]) for i in range(0, len(u)) for j in (range(0, len(v)))]\n",
    "# List to array\n",
    "x = np.asarray(o_2)\n",
    "shape = (len(u),len(v))\n",
    "# array to matrix\n",
    "print(x.reshape(shape))\n",
    "\n",
    "#(c)\n",
    "shape = (len(u),len(v))\n",
    "i = np.ones(shape) * u\n",
    "print (i.transpose() * v)"
   ]
  },
  {
   "cell_type": "markdown",
   "metadata": {},
   "source": [
    "3\\. **Matrix masking**\n",
    "\n",
    "Create a 10 by 6 matrix of float random numbers, distributed between 0 and 3 according to a flat distribution.\n",
    "\n",
    "After creating the matrix, set all entries $< 0.3$ to zero using a mask."
   ]
  },
  {
   "cell_type": "code",
   "execution_count": 4,
   "metadata": {},
   "outputs": [
    {
     "name": "stdout",
     "output_type": "stream",
     "text": [
      "[[2.98135732 1.35598519 1.9423666  1.41507437 2.65700093 2.69417946]\n",
      " [0.10905652 2.47970372 1.16347948 0.43584559 0.37276092 0.30335604]\n",
      " [0.27564427 2.14025111 2.17239868 2.78639632 1.83901209 0.11056212]\n",
      " [0.2391192  2.19887982 0.83373304 0.67065048 1.20803156 2.20832482]\n",
      " [2.93461593 0.62967316 0.79131699 0.81390931 1.91985013 1.00445947]\n",
      " [2.10006805 1.6782091  0.71145158 0.18125413 1.30461852 1.33811845]\n",
      " [2.44269064 1.52394545 1.59999987 0.96095755 0.80666956 1.19800053]\n",
      " [0.97800959 2.21429075 1.00145932 1.34776639 0.47876528 2.82692663]\n",
      " [0.28361262 0.00729081 1.1307978  2.91555672 1.1393769  0.82151513]\n",
      " [2.08580553 0.43692343 1.6703439  1.52617065 2.28229972 0.08441875]]\n",
      "[[False False False False False False]\n",
      " [ True False False False False False]\n",
      " [ True False False False False  True]\n",
      " [ True False False False False False]\n",
      " [False False False False False False]\n",
      " [False False False  True False False]\n",
      " [False False False False False False]\n",
      " [False False False False False False]\n",
      " [ True  True False False False False]\n",
      " [False False False False False  True]]\n",
      "[[2.98135732 1.35598519 1.9423666  1.41507437 2.65700093 2.69417946]\n",
      " [0.         2.47970372 1.16347948 0.43584559 0.37276092 0.30335604]\n",
      " [0.         2.14025111 2.17239868 2.78639632 1.83901209 0.        ]\n",
      " [0.         2.19887982 0.83373304 0.67065048 1.20803156 2.20832482]\n",
      " [2.93461593 0.62967316 0.79131699 0.81390931 1.91985013 1.00445947]\n",
      " [2.10006805 1.6782091  0.71145158 0.         1.30461852 1.33811845]\n",
      " [2.44269064 1.52394545 1.59999987 0.96095755 0.80666956 1.19800053]\n",
      " [0.97800959 2.21429075 1.00145932 1.34776639 0.47876528 2.82692663]\n",
      " [0.         0.         1.1307978  2.91555672 1.1393769  0.82151513]\n",
      " [2.08580553 0.43692343 1.6703439  1.52617065 2.28229972 0.        ]]\n"
     ]
    }
   ],
   "source": [
    "# Create a 10 by 6 matrix of float random numbers, distributed between 0 and 3 according to a UNIFORM distribution.\n",
    "m = npr.rand(10, 6) * 3\n",
    "print (m)\n",
    "# Mask with all elemnts\n",
    "mask = (m < 0.3)\n",
    "print(mask)\n",
    "# Set masked value to 0\n",
    "m[mask] = 0\n",
    "print (m)"
   ]
  },
  {
   "cell_type": "markdown",
   "metadata": {},
   "source": [
    "4\\. **Trigonometric functions**\n",
    "\n",
    "Use `np.linspace` to create an array of 100 numbers between $0$ and $2\\pi$ (inclusive).\n",
    "\n",
    "  * Extract every 10th element using the slice notation\n",
    "  * Reverse the array using the slice notation\n",
    "  * Extract elements where the absolute difference between the `sin` and `cos` functions evaluated for that element is $< 0.1$\n",
    "  * **Optional**: make a plot showing the sin and cos functions and indicate where they are close"
   ]
  },
  {
   "cell_type": "code",
   "execution_count": 5,
   "metadata": {},
   "outputs": [
    {
     "name": "stdout",
     "output_type": "stream",
     "text": [
      "[0.         0.06346652 0.12693304 0.19039955 0.25386607 0.31733259\n",
      " 0.38079911 0.44426563 0.50773215 0.57119866 0.63466518 0.6981317\n",
      " 0.76159822 0.82506474 0.88853126 0.95199777 1.01546429 1.07893081\n",
      " 1.14239733 1.20586385 1.26933037 1.33279688 1.3962634  1.45972992\n",
      " 1.52319644 1.58666296 1.65012947 1.71359599 1.77706251 1.84052903\n",
      " 1.90399555 1.96746207 2.03092858 2.0943951  2.15786162 2.22132814\n",
      " 2.28479466 2.34826118 2.41172769 2.47519421 2.53866073 2.60212725\n",
      " 2.66559377 2.72906028 2.7925268  2.85599332 2.91945984 2.98292636\n",
      " 3.04639288 3.10985939 3.17332591 3.23679243 3.30025895 3.36372547\n",
      " 3.42719199 3.4906585  3.55412502 3.61759154 3.68105806 3.74452458\n",
      " 3.8079911  3.87145761 3.93492413 3.99839065 4.06185717 4.12532369\n",
      " 4.1887902  4.25225672 4.31572324 4.37918976 4.44265628 4.5061228\n",
      " 4.56958931 4.63305583 4.69652235 4.75998887 4.82345539 4.88692191\n",
      " 4.95038842 5.01385494 5.07732146 5.14078798 5.2042545  5.26772102\n",
      " 5.33118753 5.39465405 5.45812057 5.52158709 5.58505361 5.64852012\n",
      " 5.71198664 5.77545316 5.83891968 5.9023862  5.96585272 6.02931923\n",
      " 6.09278575 6.15625227 6.21971879 6.28318531]\n",
      "Extracted value:\n",
      "[0.         0.63466518 1.26933037 1.90399555 2.53866073 3.17332591\n",
      " 3.8079911  4.44265628 5.07732146 5.71198664]\n",
      "[5.71198664 5.07732146 4.44265628 3.8079911  3.17332591 2.53866073\n",
      " 1.90399555 1.26933037 0.63466518 0.        ]\n",
      "[0.         0.         0.         0.         0.         0.\n",
      " 0.         0.         0.         0.         0.         0.\n",
      " 0.76159822 0.82506474 0.         0.         0.         0.\n",
      " 0.         0.         0.         0.         0.         0.\n",
      " 0.         0.         0.         0.         0.         0.\n",
      " 0.         0.         0.         0.         0.         0.\n",
      " 0.         0.         0.         0.         0.         0.\n",
      " 0.         0.         0.         0.         0.         0.\n",
      " 0.         0.         0.         0.         0.         0.\n",
      " 0.         0.         0.         0.         0.         0.\n",
      " 0.         3.87145761 3.93492413 0.         0.         0.\n",
      " 0.         0.         0.         0.         0.         0.\n",
      " 0.         0.         0.         0.         0.         0.\n",
      " 0.         0.         0.         0.         0.         0.\n",
      " 0.         0.         0.         0.         0.         0.\n",
      " 0.         0.         0.         0.         0.         0.\n",
      " 0.         0.         0.         0.        ]\n",
      "[0.76159822 0.82506474 3.87145761 3.93492413]\n"
     ]
    },
    {
     "data": {
      "image/png": "[encoded data removed]",
      "text/plain": [
       "<Figure size 432x288 with 1 Axes>"
      ]
     },
     "metadata": {
      "needs_background": "light"
     },
     "output_type": "display_data"
    }
   ],
   "source": [
    "# create an array of 100 numbers\n",
    "a = np.linspace(0, 2*(math.pi), 100)\n",
    "print(a)\n",
    "# Extract every 10th element using the slice notation\n",
    "a_ext = a[0::10]\n",
    "print('Extracted value:')\n",
    "print(a_ext)\n",
    "# Reverse the array using the slice notation, applied to a_ext\n",
    "a_rev = a_ext[::-1]\n",
    "print(a_rev)\n",
    "# Extract elements where the absolute difference between the sin and cos functions evaluated for that element is < 0.1\n",
    "# Lambda function to a single elemt\n",
    "diff = lambda x: 0 if(abs(math.sin(x)-math.cos(x))>=0.1) else x\n",
    "#Extend to vetor\n",
    "diff_vec = np.vectorize(diff, otypes=[float])\n",
    "#Aplly to every element of original a\n",
    "a_func = diff_vec(a)\n",
    "print(a_func)\n",
    "a_fil = np.extract( a_func > 0, a_func)\n",
    "print(a_fil)\n",
    "\n",
    "x = a\n",
    "y = np.sin(a)\n",
    "z = np.cos(a)\n",
    "plt.plot(x,y,x,z)\n",
    "idx = np.argwhere(np.diff(np.sign(y - z))).flatten()\n",
    "plt.plot(x[idx], y[idx], 'ro')\n",
    "plt.xlabel('a')  # string must be enclosed with quotes '  '\n",
    "plt.ylabel('sin(a) and cos(a)')\n",
    "plt.title('Plot of sin and cos')\n",
    "plt.legend(['sin(a)', 'cos(a)', 'Interseprtion'])      # legend entries as seperate strings in a list\n",
    "plt.show()\n",
    "\n"
   ]
  },
  {
   "cell_type": "markdown",
   "metadata": {},
   "source": [
    "5\\. **Matrices**\n",
    "\n",
    "Create a matrix that shows the 10 by 10 multiplication table.\n",
    "\n",
    " * Find the trace of the matrix\n",
    " * Extract the anti-diagonal matrix (this should be ```array([10, 18, 24, 28, 30, 30, 28, 24, 18, 10])```)\n",
    " * Extract the diagonal offset by 1 upwards (this should be ```array([ 2,  6, 12, 20, 30, 42, 56, 72, 90])```)"
   ]
  },
  {
   "cell_type": "code",
   "execution_count": 6,
   "metadata": {},
   "outputs": [
    {
     "name": "stdout",
     "output_type": "stream",
     "text": [
      "[[  1   2   3   4   5   6   7   8   9  10]\n",
      " [  2   4   6   8  10  12  14  16  18  20]\n",
      " [  3   6   9  12  15  18  21  24  27  30]\n",
      " [  4   8  12  16  20  24  28  32  36  40]\n",
      " [  5  10  15  20  25  30  35  40  45  50]\n",
      " [  6  12  18  24  30  36  42  48  54  60]\n",
      " [  7  14  21  28  35  42  49  56  63  70]\n",
      " [  8  16  24  32  40  48  56  64  72  80]\n",
      " [  9  18  27  36  45  54  63  72  81  90]\n",
      " [ 10  20  30  40  50  60  70  80  90 100]]\n",
      "385\n",
      "[10 18 24 28 30 30 28 24 18 10]\n",
      "[2, 6, 12, 20, 30, 42, 56, 72, 90]\n"
     ]
    }
   ],
   "source": [
    "# 10 by 10 multiplication table generation\n",
    "# number of elemnts to show\n",
    "dim = 10\n",
    "# step beetween one and the next one\n",
    "mul_step = 1\n",
    "# set the first element\n",
    "offset = 1\n",
    "tenxten_vec = [(i*j) for i in range(offset, dim + offset, mul_step) for j in (range(offset, dim+ offset, mul_step))]\n",
    "tenxten_temp = np.asarray(tenxten_vec)\n",
    "shape = (int(dim/mul_step), int(dim/mul_step))\n",
    "tenxten = tenxten_temp.reshape(shape)\n",
    "print(tenxten)\n",
    "\n",
    "# (a) Find the trace of the matrix\n",
    "tr = tenxten.trace()\n",
    "print(tr)\n",
    "# (b) Extract the anti-diagonal matrix (this should be array([10, 18, 24, 28, 30, 30, 28, 24, 18, 10]))\n",
    "# Matrix to array\n",
    "arr=np.array(tenxten)\n",
    "# Find the antidiagonal: flip array and then find the diag\n",
    "antiag = np.fliplr(arr).diagonal()\n",
    "print(antiag)\n",
    "# (c) Extract the diagonal offset by 1 upwards (this should be array([ 2,  6, 12, 20, 30, 42, 56, 72, 90]))\n",
    "diag_off = [tenxten[i,i+1] for i in range(0, int(dim/mul_step) -1, 1) ]\n",
    "print(diag_off)"
   ]
  },
  {
   "cell_type": "markdown",
   "metadata": {},
   "source": [
    "6\\. **Broadcasting**\n",
    "\n",
    "Use broadcasting to create a grid of distances.\n",
    "\n",
    "Route 66 crosses the following cities in the US: Chicago, Springfield, Saint-Louis, Tulsa, Oklahoma City, Amarillo, Santa Fe, Albuquerque, Flagstaff, Los Angeles.\n",
    "\n",
    "The corresponding positions in miles are: 0, 198, 303, 736, 871, 1175, 1475, 1544, 1913, 2448\n",
    "\n",
    "  * Build a 2D grid of distances among each city along Route 66\n",
    "  * Convert the distances in km"
   ]
  },
  {
   "cell_type": "code",
   "execution_count": 7,
   "metadata": {},
   "outputs": [
    {
     "name": "stdout",
     "output_type": "stream",
     "text": [
      "[[   0  198  303  736  871 1175 1475 1544 1913 2448]\n",
      " [ 198    0  105  538  673  977 1277 1346 1715 2250]\n",
      " [ 303  105    0  433  568  872 1172 1241 1610 2145]\n",
      " [ 736  538  433    0  135  439  739  808 1177 1712]\n",
      " [ 871  673  568  135    0  304  604  673 1042 1577]\n",
      " [1175  977  872  439  304    0  300  369  738 1273]\n",
      " [1475 1277 1172  739  604  300    0   69  438  973]\n",
      " [1544 1346 1241  808  673  369   69    0  369  904]\n",
      " [1913 1715 1610 1177 1042  738  438  369    0  535]\n",
      " [2448 2250 2145 1712 1577 1273  973  904  535    0]]\n",
      "[[   0  318  487 1184 1401 1890 2373 2484 3078 3939]\n",
      " [ 318    0  168  865 1083 1572 2055 2166 2760 3621]\n",
      " [ 487  168    0  696  914 1403 1886 1997 2591 3452]\n",
      " [1184  865  696    0  217  706 1189 1300 1894 2755]\n",
      " [1401 1083  914  217    0  489  972 1083 1676 2537]\n",
      " [1890 1572 1403  706  489    0  482  593 1187 2048]\n",
      " [2373 2055 1886 1189  972  482    0  111  704 1565]\n",
      " [2484 2166 1997 1300 1083  593  111    0  593 1454]\n",
      " [3078 2760 2591 1894 1676 1187  704  593    0  860]\n",
      " [3939 3621 3452 2755 2537 2048 1565 1454  860    0]]\n"
     ]
    }
   ],
   "source": [
    "x = np.array([0, 198, 303, 736, 871, 1175, 1475, 1544, 1913, 2448])\n",
    "\n",
    "\n",
    "\"\"\"\n",
    "\t\t\t\tChicago\t Springfield\t Saint-Louis\n",
    "\tChicago\t\t\t0         198            303\n",
    "\tSpringfield    198         0             105\n",
    "\tSaint-Louis    303        105             0\n",
    "\"\"\"\n",
    "\n",
    "# Compute via rep. matrix - transpose(rep. matrix) and then take the absolute value\n",
    "grid = np.absolute(np.tile(x, (x.size, 1)) - np.transpose(np.tile(x, (x.size, 1))))\n",
    "print(grid)\n",
    "# Miles to km, then cast to int to clean the output\n",
    "gridKm = np.int64(grid * 1.609344)\n",
    "print(gridKm)"
   ]
  },
  {
   "cell_type": "markdown",
   "metadata": {},
   "source": [
    "7\\. **Prime numbers sieve**\n",
    "\n",
    "Compute the prime numbers in the 0-N (start with N=99) range with a sieve (mask).\n",
    "\n",
    "  * Constract a shape (N,) boolean array, which is the mask\n",
    "  * Identify the multiples of each number starting from 2 and set accordingly the corresponding mask element\n",
    "  * Apply the mask to obtain an array of ordered prime numbers\n",
    "  * Check the performances (with `timeit`); how does it scale with N?\n",
    "  * Implement the optimization suggested in the [sieve of Eratosthenes](https://en.wikipedia.org/wiki/Sieve_of_Eratosthenes)"
   ]
  },
  {
   "cell_type": "code",
   "execution_count": 8,
   "metadata": {},
   "outputs": [
    {
     "name": "stdout",
     "output_type": "stream",
     "text": [
      "[0 0 0 1 0 1 0 1 1 1 0 1 0 1 1 1 0 1 0 1 1 1 0 1 1 1 1 1 0 1 0 1 1 1 1 1 0\n",
      " 1 1 1 0 1 0 1 1 1 0 1 1 1 1 1 0 1 1 1 1 1 0 1 0 1 1 1 1 1 0 1 1 1 0 1 0 1\n",
      " 1 1 1 1 0 1 1 1 0 1 1 1 1 1 0 1 1 1 1 1 1 1 0 1 1 1 0 1 0 1 1 1 0 1 0 1 1\n",
      " 1 0 1 1 1 1 1 1 1 1 1 1 1 1 1 0 1 1 1 0 1 1 1 1 1 0 1 0 1 1 1 1 1 1 1 1 1\n",
      " 0 1 0 1 1 1 1 1 0 1 1 1 1 1 0 1 1 1 0 1 1 1 1 1 0 1 1 1 1 1 0 1 0 1 1 1 1\n",
      " 1 1 1 1 1 0 1 0 1 1 1 0 1 0 1 1 1 1 1 1 1 1 1 1 1 0 1 1 1 1 1 1 1 1 1 1 1\n",
      " 0 1 1 1 0 1 0 1 1 1 0 1 1 1 1 1 0 1 0 1 1 1 1 1 1 1 1 1 0 1 1 1 1 1 0 1 1\n",
      " 1 1 1 0 1 1 1 1 1 0 1 0 1 1 1 1 1 0 1 1 1 0 1 0 1 1 1 1 1 1 1 1 1 0 1 1 1\n",
      " 1 1 1 1 1 1 1 1 1 1 0 1 1 1 0 1 0 1 1 1 0 1 1 1 1 1 1 1 1 1 1 1 1 1 0 1 1\n",
      " 1 1 1 0 1 1 1 1 1 1 1 1 1 0 1 0 1 1 1 0 1 1 1 1 1 0 1 1 1 1 1 1 1 0 1 1 1\n",
      " 1 1 0 1 1 1 1 1 0 1 1 1 0 1 1 1 1 1 0 1 1 1 1 1 1 1 0 1 1 1 0 1 1 1 1 1 1\n",
      " 1 0 1 1 1 1 1 1 1 1 1 0 1 0 1 1 1 1 1 1 1 1 1 0 1 0 1 1 1 1 1 0 1 1 1 0 1\n",
      " 1 1 1 1 0 1 1 1 1 1 1 1 0 1 1 1 0 1 0 1 1 1 0 1 1 1 1 1 1 1 1 1 1 1 0 1 1\n",
      " 1 1 1 1 1 0 1 1 1 0 1 1 1 1 1 1 1 0 1 1 1 0 1 1 1 1 1 0 1 1 1 1 1 1 1 1 1\n",
      " 1 1 0 1 0 1 1 1 1 1 1 1 1 1 1 1 1 1 1 1 1 1 0 1 1 1 1 1 0 1 1 1 1 1 1 1 1\n",
      " 1 0 1 1 1 1 1 0 1 1 1 1 1 0 1 0 1 1 1 1 1 0 1 1 1 1 1 1 1 1 1 0 1 1 1 1 1\n",
      " 0 1 1 1 1 1 0 1 0 1 1 1 1 1 0 1 1 1 1 1 0 1 1 1 0 1 0 1 1 1 1 1 1 1 1 1 1\n",
      " 1 0 1 1 1 1 1 1 1 1 1 0 1 0 1 1 1 0 1 1 1 1 1 0 1 1 1 1 1 0 1 0 1 1 1 1 1\n",
      " 1 1 1 1 1 1 0 1 1 1 0 1 1 1 1 1 0 1 1 1 1 1 1 1 0 1 1 1 1 1 1 1 1 1 0 1 1\n",
      " 1 1 1 1 1 0 1 1 1 1 1 1 1 1 1 0 1 1 1 1 1 1 1 0 1 1 1 1 1 0 1 1 1 1 1 0 1\n",
      " 1 1 0 1 1 1 1 1 1 1 0 1 1 1 1 1 0 1 1 1 0 1 1 1 1 1 1 1 0 1 1 1 0 1 1 1 1\n",
      " 1 1 1 1 1 1 1 1 1 0 1 1 1 1 1 1 1 1 1 0 1 1 1 1 1 1 1 1 1 1 1 0 1 0 1 1 1\n",
      " 1 1 1 1 1 1 0 1 0 1 1 1 0 1 0 1 1 1 1 1 1 1 1 1 0 1 1 1 1 1 1 1 1 1 1 1 1\n",
      " 1 0 1 1 1 0 1 0 1 1 1 0 1 1 1 1 1 1 1 1 1 1 1 1 1 0 1 1 1 0 1 0 1 1 1 0 1\n",
      " 1 1 1 1 1 1 1 1 1 1 1 1 1 1 1 1 1 1 0 1 1 1 0 1 1 1 1 1 1 1 0 1 1 1 1 1 1\n",
      " 1 1 1 0 1 1 1 1 1 1 1 0 1 1 1 0 1 1 1 1 1 0 1 1 1 1 1 0 1 1 1 1 1 1 1 1 1\n",
      " 1 1 1 1 0 1 1 1 0 1 1 1 1 1 0 1 1 1 1 1 0 1 1 1 1 1 1 1 0 1 1 1 1 1 0 1 1]\n",
      "[1 2 3 -- 5 -- 7 -- -- -- 11 -- 13 -- -- -- 17 -- 19 -- -- -- 23 -- -- --\n",
      " -- -- 29 -- 31 -- -- -- -- -- 37 -- -- -- 41 -- 43 -- -- -- 47 -- -- --\n",
      " -- -- 53 -- -- -- -- -- 59 -- 61 -- -- -- -- -- 67 -- -- -- 71 -- 73 --\n",
      " -- -- -- -- 79 -- -- -- 83 -- -- -- -- -- 89 -- -- -- -- -- -- -- 97 --\n",
      " -- -- 101 -- 103 -- -- -- 107 -- 109 -- -- -- 113 -- -- -- -- -- -- -- --\n",
      " -- -- -- -- -- 127 -- -- -- 131 -- -- -- -- -- 137 -- 139 -- -- -- -- --\n",
      " -- -- -- -- 149 -- 151 -- -- -- -- -- 157 -- -- -- -- -- 163 -- -- -- 167\n",
      " -- -- -- -- -- 173 -- -- -- -- -- 179 -- 181 -- -- -- -- -- -- -- -- --\n",
      " 191 -- 193 -- -- -- 197 -- 199 -- -- -- -- -- -- -- -- -- -- -- 211 -- --\n",
      " -- -- -- -- -- -- -- -- -- 223 -- -- -- 227 -- 229 -- -- -- 233 -- -- --\n",
      " -- -- 239 -- 241 -- -- -- -- -- -- -- -- -- 251 -- -- -- -- -- 257 -- --\n",
      " -- -- -- 263 -- -- -- -- -- 269 -- 271 -- -- -- -- -- 277 -- -- -- 281 --\n",
      " 283 -- -- -- -- -- -- -- -- -- 293 -- -- -- -- -- -- -- -- -- -- -- -- --\n",
      " 307 -- -- -- 311 -- 313 -- -- -- 317 -- -- -- -- -- -- -- -- -- -- -- --\n",
      " -- 331 -- -- -- -- -- 337 -- -- -- -- -- -- -- -- -- 347 -- 349 -- -- --\n",
      " 353 -- -- -- -- -- 359 -- -- -- -- -- -- -- 367 -- -- -- -- -- 373 -- --\n",
      " -- -- -- 379 -- -- -- 383 -- -- -- -- -- 389 -- -- -- -- -- -- -- 397 --\n",
      " -- -- 401 -- -- -- -- -- -- -- 409 -- -- -- -- -- -- -- -- -- 419 -- 421\n",
      " -- -- -- -- -- -- -- -- -- 431 -- 433 -- -- -- -- -- 439 -- -- -- 443 --\n",
      " -- -- -- -- 449 -- -- -- -- -- -- -- 457 -- -- -- 461 -- 463 -- -- -- 467\n",
      " -- -- -- -- -- -- -- -- -- -- -- 479 -- -- -- -- -- -- -- 487 -- -- --\n",
      " 491 -- -- -- -- -- -- -- 499 -- -- -- 503 -- -- -- -- -- 509 -- -- -- --\n",
      " -- -- -- -- -- -- -- 521 -- 523 -- -- -- -- -- -- -- -- -- -- -- -- -- --\n",
      " -- -- -- 541 -- -- -- -- -- 547 -- -- -- -- -- -- -- -- -- 557 -- -- --\n",
      " -- -- 563 -- -- -- -- -- 569 -- 571 -- -- -- -- -- 577 -- -- -- -- -- --\n",
      " -- -- -- 587 -- -- -- -- -- 593 -- -- -- -- -- 599 -- 601 -- -- -- -- --\n",
      " 607 -- -- -- -- -- 613 -- -- -- 617 -- 619 -- -- -- -- -- -- -- -- -- --\n",
      " -- 631 -- -- -- -- -- -- -- -- -- 641 -- 643 -- -- -- 647 -- -- -- -- --\n",
      " 653 -- -- -- -- -- 659 -- 661 -- -- -- -- -- -- -- -- -- -- -- 673 -- --\n",
      " -- 677 -- -- -- -- -- 683 -- -- -- -- -- -- -- 691 -- -- -- -- -- -- --\n",
      " -- -- 701 -- -- -- -- -- -- -- 709 -- -- -- -- -- -- -- -- -- 719 -- --\n",
      " -- -- -- -- -- 727 -- -- -- -- -- 733 -- -- -- -- -- 739 -- -- -- 743 --\n",
      " -- -- -- -- -- -- 751 -- -- -- -- -- 757 -- -- -- 761 -- -- -- -- -- --\n",
      " -- 769 -- -- -- 773 -- -- -- -- -- -- -- -- -- -- -- -- -- 787 -- -- --\n",
      " -- -- -- -- -- -- 797 -- -- -- -- -- -- -- -- -- -- -- 809 -- 811 -- --\n",
      " -- -- -- -- -- -- -- 821 -- 823 -- -- -- 827 -- 829 -- -- -- -- -- -- --\n",
      " -- -- 839 -- -- -- -- -- -- -- -- -- -- -- -- -- 853 -- -- -- 857 -- 859\n",
      " -- -- -- 863 -- -- -- -- -- -- -- -- -- -- -- -- -- 877 -- -- -- 881 --\n",
      " 883 -- -- -- 887 -- -- -- -- -- -- -- -- -- -- -- -- -- -- -- -- -- -- --\n",
      " 907 -- -- -- 911 -- -- -- -- -- -- -- 919 -- -- -- -- -- -- -- -- -- 929\n",
      " -- -- -- -- -- -- -- 937 -- -- -- 941 -- -- -- -- -- 947 -- -- -- -- --\n",
      " 953 -- -- -- -- -- -- -- -- -- -- -- -- -- 967 -- -- -- 971 -- -- -- --\n",
      " -- 977 -- -- -- -- -- 983 -- -- -- -- -- -- -- 991 -- -- -- -- -- 997 --\n",
      " --]\n",
      "0.009899441000000397\n",
      "[2, 3, 5, 7, 11, 13, 17, 19, 23, 29, 31, 37, 41, 43, 47, 53, 59, 61, 67, 71, 73, 79, 83, 89, 97, 101, 103, 107, 109, 113, 127, 131, 137, 139, 149, 151, 157, 163, 167, 173, 179, 181, 191, 193, 197, 199, 211, 223, 227, 229, 233, 239, 241, 251, 257, 263, 269, 271, 277, 281, 283, 293, 307, 311, 313, 317, 331, 337, 347, 349, 353, 359, 367, 373, 379, 383, 389, 397, 401, 409, 419, 421, 431, 433, 439, 443, 449, 457, 461, 463, 467, 479, 487, 491, 499, 503, 509, 521, 523, 541, 547, 557, 563, 569, 571, 577, 587, 593, 599, 601, 607, 613, 617, 619, 631, 641, 643, 647, 653, 659, 661, 673, 677, 683, 691, 701, 709, 719, 727, 733, 739, 743, 751, 757, 761, 769, 773, 787, 797, 809, 811, 821, 823, 827, 829, 839, 853, 857, 859, 863, 877, 881, 883, 887, 907, 911, 919, 929, 937, 941, 947, 953, 967, 971, 977, 983, 991, 997]\n",
      "0.000746639000000382\n"
     ]
    },
    {
     "data": {
      "text/plain": [
       "'\\n We find about time:\\nfor N = 100 Standard = 0.0011972249999999962\\n\\t\\t\\tSieve\\t = 4.789999999998962e-05\\n\\tN = 1000 Standard = 0.007336134999999994\\n             Sieve    = 0.00022872900000001084\\n'"
      ]
     },
     "execution_count": 8,
     "metadata": {},
     "output_type": "execute_result"
    }
   ],
   "source": [
    "start = time.process_time()\n",
    "N=1000\n",
    "\n",
    "num = np.arange(1, N)\n",
    "def is_prime(n):\n",
    "\tif n % 2 == 0 and n > 2: \n",
    "\t\treturn True\n",
    "\treturn not(all(n % i for i in range(3, int(math.sqrt(n)) + 1, 2)))\n",
    "\n",
    "is_prime_vec = np.vectorize(is_prime, otypes=[int])\n",
    "m = is_prime_vec(num)\n",
    "print(m)\n",
    "num_fil=ma.array(num, mask=m)\n",
    "print(num_fil) \n",
    "print(time.process_time() - start)\n",
    "\n",
    "start = time.process_time()\n",
    "# sieve of Eratosthenes\n",
    "def sieve(n):\n",
    "    # Initialize primary list:\n",
    "    a = [True] * n    \n",
    "    a[0] = a[1] = False\n",
    "    for (i, isprime) in enumerate(a):\n",
    "        if isprime:\n",
    "            yield i\n",
    "            # Mark non-prime\n",
    "            for j in range(i*i, n, i):\n",
    "                a[j] = False\n",
    "print(list(sieve(N)))\n",
    "print(time.process_time() - start)\n",
    "\n",
    "\n",
    "\"\"\"\n",
    " We find about time:\n",
    "for N = 100 Standard = 0.0011972249999999962\n",
    "\t\t\tSieve\t = 4.789999999998962e-05\n",
    "\tN = 1000 Standard = 0.007336134999999994\n",
    "             Sieve    = 0.00022872900000001084\n",
    "\"\"\""
   ]
  },
  {
   "cell_type": "markdown",
   "metadata": {},
   "source": [
    "8\\. **Diffusion using random walk**\n",
    "\n",
    "Consider a simple random walk process: at each step in time, a walker jumps right or left (+1 or -1) with equal probability. The goal is to find the typical distance from the origin of many random walkers after a given amount of time.\n",
    "\n",
    "*Hint*: create a 2D array where each row represents a walker, and each column represents a time step.\n",
    "\n",
    "  * Take 1000 walkers and let them walk for 200 steps\n",
    "  * Use `randint` to create a 2D array of size $walkers \\times steps$ with values -1 or 1\n",
    "  * Calculate the walking distances for each walker (e.g. by summing the elements in each row)\n",
    "  * Take the square of the previously-obtained array (element-wise)\n",
    "  * Compute the mean of the squared distances at each step (i.e. the mean along the columns)\n",
    "  * **Optional**: plot the average distances ($\\sqrt(distance^2)$) as a function of time (step)"
   ]
  },
  {
   "cell_type": "code",
   "execution_count": 9,
   "metadata": {},
   "outputs": [
    {
     "name": "stdout",
     "output_type": "stream",
     "text": [
      "[[-1 -1  1 ...  1 -1  1]\n",
      " [-1 -1 -1 ...  1  1  1]\n",
      " [ 1  1 -1 ...  1 -1 -1]\n",
      " ...\n",
      " [-1 -1 -1 ... -1  1 -1]\n",
      " [-1 -1 -1 ...  1 -1  1]\n",
      " [ 1 -1 -1 ... -1  1 -1]]\n",
      "[[ -1  -2  -1 ... -50 -51 -50]\n",
      " [ -1  -2  -3 ...  14  15  16]\n",
      " [  1   2   1 ...  -8  -9 -10]\n",
      " ...\n",
      " [ -1  -2  -3 ...  -2  -1  -2]\n",
      " [ -1  -2  -3 ...   0  -1   0]\n",
      " [  1   0  -1 ... -16 -15 -16]]\n",
      "[[   1    4    1 ... 2500 2601 2500]\n",
      " [   1    4    9 ...  196  225  256]\n",
      " [   1    4    1 ...   64   81  100]\n",
      " ...\n",
      " [   1    4    9 ...    4    1    4]\n",
      " [   1    4    9 ...    0    1    0]\n",
      " [   1    0    1 ...  256  225  256]]\n",
      "[  5.     9.68  14.92  20.78  25.24  30.56  35.44  38.78  44.    49.66\n",
      "  54.4   59.86  63.08  69.48  74.88  78.96  84.08  89.44  95.04  97.1\n",
      " 102.16 107.24 113.72 118.64 124.04 130.06 135.56 143.26 148.88 153.3\n",
      " 159.64 165.7  171.12 177.06 180.44 186.24 189.64 201.46 207.28 213.48\n",
      " 215.96 220.78 224.28 229.24 232.84 236.64 242.52 244.84 248.4  251.66\n",
      " 256.   261.22 266.52 273.3  277.2  281.68 283.2  287.1  288.84 292.1\n",
      " 296.48 301.8  305.8  311.02 315.04 319.4  321.36 326.94 331.56 330.5\n",
      " 333.96 337.1  341.8  350.   354.68 361.94 369.72 372.76 377.8  376.98\n",
      " 386.12 391.26 397.2  403.84 411.24 417.66 421.04 424.48 425.36 426.96\n",
      " 437.96 443.8  449.84 455.44 463.52 466.78 468.56 474.5  483.2  489.72\n",
      " 499.76 506.68 504.36 505.18 507.44 516.22 522.08 524.72 529.76 535.24\n",
      " 538.44 540.24 538.76 546.1  554.36 561.66 563.32 572.04 576.04 578.22\n",
      " 583.84 591.68 597.12 602.36 613.2  616.18 619.32 635.18 641.12 645.94\n",
      " 654.64 659.46 666.8  677.12 677.4  685.9  692.24 699.26 702.2  698.32\n",
      " 701.92 706.42 708.   711.38 715.04 724.58 728.08 731.42 732.72 740.88\n",
      " 742.6  744.4  747.04 746.32 744.88 748.42 758.68 768.14 774.   776.02\n",
      " 776.36 777.52 788.32 795.54 800.12 807.86 818.68 824.16 825.6  830.52\n",
      " 834.64 835.5  839.4  840.7  847.12 852.26 862.   869.04 870.72 877.8\n",
      " 880.2  880.46 883.04 885.54 886.76 893.48 901.   909.98 910.4  915.92\n",
      " 922.6  927.58 926.28 932.42 936.44 943.86 946.64 952.7  960.48 961.38]\n"
     ]
    },
    {
     "data": {
      "image/png": "[encoded data removed]",
      "text/plain": [
       "<Figure size 576x576 with 1 Axes>"
      ]
     },
     "metadata": {
      "needs_background": "light"
     },
     "output_type": "display_data"
    }
   ],
   "source": [
    "w = 1000\n",
    "s = 200\n",
    "\n",
    "\n",
    "#w=10\n",
    "#s=2\n",
    "# Take 1000 walkers and let them walk for 200 steps Use randint to create a 2D array of size  with values -1 or 1\n",
    "a = np.random.randint(2, size=(w, s))*2 - 1\n",
    "print(a)\n",
    "# Calculate the walking distances for each walker (e.g. by summing the elements in each row)\n",
    "wdist = np.cumsum(a,axis=1)\n",
    "print(wdist)\n",
    "#Take the square of the previously-obtained array (element-wise)\n",
    "# compute a * aT\n",
    "#asq = a @ np.transpose(a)\n",
    "asq = np.power(wdist, 2)\n",
    "print(asq)\n",
    "# Compute the mean of the squared distances at each step (i.e. the mean along the columns)\n",
    "sqdist = np.sum(asq,axis=0) / s\n",
    "print(sqdist)\n",
    "# plot the average distances ((⎯⎯√𝑑𝑖𝑠𝑡𝑎𝑛𝑐𝑒2)) as a function of time (step)\n",
    "mean = np.sqrt(sqdist)\n",
    "time = np.arange(len(mean))\n",
    "\n",
    "fig1 = plt.figure(num=\"Figure 1\", figsize=(8, 8))\n",
    "plt.plot( mean)\n",
    "plt.title('mean')\n",
    "plt.xlabel(\"time\")\n",
    "plt.ylabel(\"mean\")\n",
    "plt.show()"
   ]
  },
  {
   "cell_type": "code",
   "execution_count": null,
   "metadata": {},
   "outputs": [],
   "source": []
  }
 ],
 "metadata": {
  "kernelspec": {
   "display_name": "Python 3 (ipykernel)",
   "language": "python",
   "name": "python3"
  },
  "language_info": {
   "codemirror_mode": {
    "name": "ipython",
    "version": 3
   },
   "file_extension": ".py",
   "mimetype": "text/x-python",
   "name": "python",
   "nbconvert_exporter": "python",
   "pygments_lexer": "ipython3",
   "version": "3.8.12"
  }
 },
 "nbformat": 4,
 "nbformat_minor": 2
}
